{
 "cells": [
  {
   "cell_type": "code",
   "execution_count": null,
   "id": "initial_id",
   "metadata": {
    "collapsed": true
   },
   "outputs": [],
   "source": [
    "import datetime\n",
    "import random\n",
    "import numpy as np\n",
    "import torch\n",
    "\n",
    "from conformer import ExP"
   ]
  },
  {
   "metadata": {},
   "cell_type": "code",
   "outputs": [],
   "execution_count": null,
   "source": [
    "\n",
    "best = 0\n",
    "aver = 0\n",
    "result_write = open(\"./results/sub_result.txt\", \"w\")\n",
    "\n",
    "for i in range(9):\n",
    "    starttime = datetime.datetime.now()\n",
    "\n",
    "\n",
    "    seed_n = np.random.randint(2021)\n",
    "    print('seed is ' + str(seed_n))\n",
    "    random.seed(seed_n)\n",
    "    np.random.seed(seed_n)\n",
    "    torch.manual_seed(seed_n)\n",
    "    torch.cuda.manual_seed(seed_n)\n",
    "    torch.cuda.manual_seed_all(seed_n)\n",
    "\n",
    "\n",
    "    print('Subject %d' % (i+1))\n",
    "    exp = ExP(i + 1)\n",
    "\n",
    "    bestAcc, averAcc, Y_true, Y_pred = exp.train()\n",
    "    print('THE BEST ACCURACY IS ' + str(bestAcc))\n",
    "    result_write.write('Subject ' + str(i + 1) + ' : ' + 'Seed is: ' + str(seed_n) + \"\\n\")\n",
    "    result_write.write('Subject ' + str(i + 1) + ' : ' + 'The best accuracy is: ' + str(bestAcc) + \"\\n\")\n",
    "    result_write.write('Subject ' + str(i + 1) + ' : ' + 'The average accuracy is: ' + str(averAcc) + \"\\n\")\n",
    "\n",
    "    endtime = datetime.datetime.now()\n",
    "    print('subject %d duration: '%(i+1) + str(endtime - starttime))\n",
    "    best = best + bestAcc\n",
    "    aver = aver + averAcc\n",
    "    if i == 0:\n",
    "        yt = Y_true\n",
    "        yp = Y_pred\n",
    "    else:\n",
    "        yt = torch.cat((yt, Y_true))\n",
    "        yp = torch.cat((yp, Y_pred))\n",
    "\n",
    "\n",
    "best = best / 9\n",
    "aver = aver / 9\n",
    "\n",
    "result_write.write('**The average Best accuracy is: ' + str(best) + \"\\n\")\n",
    "result_write.write('The average Aver accuracy is: ' + str(aver) + \"\\n\")\n",
    "result_write.close()"
   ],
   "id": "385d79c897323de0"
  }
 ],
 "metadata": {
  "kernelspec": {
   "display_name": "Python 3",
   "language": "python",
   "name": "python3"
  },
  "language_info": {
   "codemirror_mode": {
    "name": "ipython",
    "version": 2
   },
   "file_extension": ".py",
   "mimetype": "text/x-python",
   "name": "python",
   "nbconvert_exporter": "python",
   "pygments_lexer": "ipython2",
   "version": "2.7.6"
  }
 },
 "nbformat": 4,
 "nbformat_minor": 5
}
